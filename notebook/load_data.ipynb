{
 "cells": [
  {
   "cell_type": "code",
   "execution_count": 1,
   "id": "70db2210",
   "metadata": {},
   "outputs": [],
   "source": [
    "import polars as pl\n",
    "\n",
    "users_dir = \"/home/muthu/Desktop/New Folder/data/users/part-00001.parquet\"\n",
    "events_dir = \"/home/muthu/Desktop/New Folder/data/events/part-00001.parquet\"\n",
    "\n",
    "#users_dir = \"/home/muthu/Desktop/New Folder/data/users/\"\n",
    "#events_dir = \"/home/muthu/Desktop/New Folder/data/events/\"\n",
    "users = pl.scan_parquet(users_dir)\n",
    "events = pl.scan_parquet(events_dir)\n",
    "\n",
    "users = users.drop([\"email\", \"phone\", \"name\", \"last_active_at\"])\n",
    "events = events.drop([\"event_id\", \"event_time\", \"page_url\"])\n",
    "\n",
    "events = events.with_columns(product_id=pl.col(\"product_id\").replace(\"\", \"None\"))\n",
    "#df = events.join(users, left_on=\"muid\", right_on=\"id\") "
   ]
  },
  {
   "cell_type": "code",
   "execution_count": null,
   "id": "01930e2a",
   "metadata": {},
   "outputs": [
    {
     "name": "stderr",
     "output_type": "stream",
     "text": [
      "/tmp/ipykernel_14330/1695151477.py:1: DeprecationWarning: `LazyFrame.fetch` is deprecated; use `LazyFrame.collect` instead, in conjunction with a call to `head`.\n",
      "  users.fetch()\n"
     ]
    },
    {
     "data": {
      "text/html": [
       "<div><style>\n",
       ".dataframe > thead > tr,\n",
       ".dataframe > tbody > tr {\n",
       "  text-align: right;\n",
       "  white-space: pre-wrap;\n",
       "}\n",
       "</style>\n",
       "<small>shape: (500, 2)</small><table border=\"1\" class=\"dataframe\"><thead><tr><th>id</th><th>location</th></tr><tr><td>str</td><td>str</td></tr></thead><tbody><tr><td>&quot;f2ffe5a9-165d-4021-8707-d197d7…</td><td>&quot;CA&quot;</td></tr><tr><td>&quot;d076a2a5-5c8a-40d5-897b-c78c04…</td><td>&quot;UK&quot;</td></tr><tr><td>&quot;a450bf6f-5c0c-492b-b9c6-e34726…</td><td>&quot;US&quot;</td></tr><tr><td>&quot;726f354d-9584-448c-af13-36d2b0…</td><td>&quot;BD&quot;</td></tr><tr><td>&quot;28e2c09c-0eb2-45dd-9256-89e568…</td><td>&quot;PK&quot;</td></tr><tr><td>&hellip;</td><td>&hellip;</td></tr><tr><td>&quot;158ccded-5682-4448-859f-79d4db…</td><td>&quot;US&quot;</td></tr><tr><td>&quot;683c8010-7b8b-4b02-ac71-c68b0d…</td><td>&quot;CA&quot;</td></tr><tr><td>&quot;08c134f4-af22-464d-9cf6-dda1f8…</td><td>&quot;SA&quot;</td></tr><tr><td>&quot;bc3edd56-135b-4c9f-8100-85f48f…</td><td>&quot;PK&quot;</td></tr><tr><td>&quot;016e5131-6a2a-444e-b82e-cbcdac…</td><td>&quot;SA&quot;</td></tr></tbody></table></div>"
      ],
      "text/plain": [
       "shape: (500, 2)\n",
       "┌─────────────────────────────────┬──────────┐\n",
       "│ id                              ┆ location │\n",
       "│ ---                             ┆ ---      │\n",
       "│ str                             ┆ str      │\n",
       "╞═════════════════════════════════╪══════════╡\n",
       "│ f2ffe5a9-165d-4021-8707-d197d7… ┆ CA       │\n",
       "│ d076a2a5-5c8a-40d5-897b-c78c04… ┆ UK       │\n",
       "│ a450bf6f-5c0c-492b-b9c6-e34726… ┆ US       │\n",
       "│ 726f354d-9584-448c-af13-36d2b0… ┆ BD       │\n",
       "│ 28e2c09c-0eb2-45dd-9256-89e568… ┆ PK       │\n",
       "│ …                               ┆ …        │\n",
       "│ 158ccded-5682-4448-859f-79d4db… ┆ US       │\n",
       "│ 683c8010-7b8b-4b02-ac71-c68b0d… ┆ CA       │\n",
       "│ 08c134f4-af22-464d-9cf6-dda1f8… ┆ SA       │\n",
       "│ bc3edd56-135b-4c9f-8100-85f48f… ┆ PK       │\n",
       "│ 016e5131-6a2a-444e-b82e-cbcdac… ┆ SA       │\n",
       "└─────────────────────────────────┴──────────┘"
      ]
     },
     "execution_count": 2,
     "metadata": {},
     "output_type": "execute_result"
    }
   ],
   "source": [
    "events.collect()"
   ]
  },
  {
   "cell_type": "code",
   "execution_count": 4,
   "id": "c6123900",
   "metadata": {},
   "outputs": [
    {
     "name": "stderr",
     "output_type": "stream",
     "text": [
      "/tmp/ipykernel_14330/18388945.py:1: DeprecationWarning: `LazyFrame.fetch` is deprecated; use `LazyFrame.collect` instead, in conjunction with a call to `head`.\n",
      "  events.fetch()\n"
     ]
    },
    {
     "data": {
      "text/html": [
       "<div><style>\n",
       ".dataframe > thead > tr,\n",
       ".dataframe > tbody > tr {\n",
       "  text-align: right;\n",
       "  white-space: pre-wrap;\n",
       "}\n",
       "</style>\n",
       "<small>shape: (500, 8)</small><table border=\"1\" class=\"dataframe\"><thead><tr><th>muid</th><th>session_id</th><th>event_name</th><th>device_os</th><th>channel</th><th>traffic_source</th><th>category</th><th>product_id</th></tr><tr><td>str</td><td>str</td><td>str</td><td>str</td><td>str</td><td>str</td><td>str</td><td>str</td></tr></thead><tbody><tr><td>&quot;f2ffe5a9-165d-4021-8707-d197d7…</td><td>&quot;635793e9-37c0-48d4-976a-c40cd8…</td><td>&quot;scroll&quot;</td><td>&quot;android&quot;</td><td>&quot;browser&quot;</td><td>&quot;direct&quot;</td><td>&quot;books&quot;</td><td>&quot;None&quot;</td></tr><tr><td>&quot;f2ffe5a9-165d-4021-8707-d197d7…</td><td>&quot;635793e9-37c0-48d4-976a-c40cd8…</td><td>&quot;add_to_cart&quot;</td><td>&quot;android&quot;</td><td>&quot;browser&quot;</td><td>&quot;direct&quot;</td><td>&quot;beauty&quot;</td><td>&quot;beauty-633&quot;</td></tr><tr><td>&quot;f2ffe5a9-165d-4021-8707-d197d7…</td><td>&quot;635793e9-37c0-48d4-976a-c40cd8…</td><td>&quot;viewcontent&quot;</td><td>&quot;android&quot;</td><td>&quot;browser&quot;</td><td>&quot;direct&quot;</td><td>&quot;books&quot;</td><td>&quot;books-648&quot;</td></tr><tr><td>&quot;f2ffe5a9-165d-4021-8707-d197d7…</td><td>&quot;635793e9-37c0-48d4-976a-c40cd8…</td><td>&quot;scroll&quot;</td><td>&quot;android&quot;</td><td>&quot;browser&quot;</td><td>&quot;direct&quot;</td><td>&quot;books&quot;</td><td>&quot;None&quot;</td></tr><tr><td>&quot;f2ffe5a9-165d-4021-8707-d197d7…</td><td>&quot;635793e9-37c0-48d4-976a-c40cd8…</td><td>&quot;pageview&quot;</td><td>&quot;android&quot;</td><td>&quot;browser&quot;</td><td>&quot;direct&quot;</td><td>&quot;books&quot;</td><td>&quot;books-768&quot;</td></tr><tr><td>&hellip;</td><td>&hellip;</td><td>&hellip;</td><td>&hellip;</td><td>&hellip;</td><td>&hellip;</td><td>&hellip;</td><td>&hellip;</td></tr><tr><td>&quot;fdcc8977-2c1c-45a9-b528-9a650c…</td><td>&quot;74c52fbc-3539-4f3c-bdbf-4936c8…</td><td>&quot;add_to_cart&quot;</td><td>&quot;ios&quot;</td><td>&quot;app&quot;</td><td>&quot;paid&quot;</td><td>&quot;toys&quot;</td><td>&quot;toys-405&quot;</td></tr><tr><td>&quot;fdcc8977-2c1c-45a9-b528-9a650c…</td><td>&quot;74c52fbc-3539-4f3c-bdbf-4936c8…</td><td>&quot;purchase&quot;</td><td>&quot;ios&quot;</td><td>&quot;app&quot;</td><td>&quot;paid&quot;</td><td>&quot;snack&quot;</td><td>&quot;snack-255&quot;</td></tr><tr><td>&quot;fdcc8977-2c1c-45a9-b528-9a650c…</td><td>&quot;74c52fbc-3539-4f3c-bdbf-4936c8…</td><td>&quot;pageview&quot;</td><td>&quot;ios&quot;</td><td>&quot;app&quot;</td><td>&quot;paid&quot;</td><td>&quot;books&quot;</td><td>&quot;books-455&quot;</td></tr><tr><td>&quot;fdcc8977-2c1c-45a9-b528-9a650c…</td><td>&quot;74c52fbc-3539-4f3c-bdbf-4936c8…</td><td>&quot;scroll&quot;</td><td>&quot;ios&quot;</td><td>&quot;app&quot;</td><td>&quot;paid&quot;</td><td>&quot;beauty&quot;</td><td>&quot;None&quot;</td></tr><tr><td>&quot;fdcc8977-2c1c-45a9-b528-9a650c…</td><td>&quot;74c52fbc-3539-4f3c-bdbf-4936c8…</td><td>&quot;viewcontent&quot;</td><td>&quot;ios&quot;</td><td>&quot;app&quot;</td><td>&quot;paid&quot;</td><td>&quot;fashion&quot;</td><td>&quot;fashion-290&quot;</td></tr></tbody></table></div>"
      ],
      "text/plain": [
       "shape: (500, 8)\n",
       "┌─────────────┬────────────┬────────────┬───────────┬─────────┬────────────┬──────────┬────────────┐\n",
       "│ muid        ┆ session_id ┆ event_name ┆ device_os ┆ channel ┆ traffic_so ┆ category ┆ product_id │\n",
       "│ ---         ┆ ---        ┆ ---        ┆ ---       ┆ ---     ┆ urce       ┆ ---      ┆ ---        │\n",
       "│ str         ┆ str        ┆ str        ┆ str       ┆ str     ┆ ---        ┆ str      ┆ str        │\n",
       "│             ┆            ┆            ┆           ┆         ┆ str        ┆          ┆            │\n",
       "╞═════════════╪════════════╪════════════╪═══════════╪═════════╪════════════╪══════════╪════════════╡\n",
       "│ f2ffe5a9-16 ┆ 635793e9-3 ┆ scroll     ┆ android   ┆ browser ┆ direct     ┆ books    ┆ None       │\n",
       "│ 5d-4021-870 ┆ 7c0-48d4-9 ┆            ┆           ┆         ┆            ┆          ┆            │\n",
       "│ 7-d197d7…   ┆ 76a-c40cd8 ┆            ┆           ┆         ┆            ┆          ┆            │\n",
       "│             ┆ …          ┆            ┆           ┆         ┆            ┆          ┆            │\n",
       "│ f2ffe5a9-16 ┆ 635793e9-3 ┆ add_to_car ┆ android   ┆ browser ┆ direct     ┆ beauty   ┆ beauty-633 │\n",
       "│ 5d-4021-870 ┆ 7c0-48d4-9 ┆ t          ┆           ┆         ┆            ┆          ┆            │\n",
       "│ 7-d197d7…   ┆ 76a-c40cd8 ┆            ┆           ┆         ┆            ┆          ┆            │\n",
       "│             ┆ …          ┆            ┆           ┆         ┆            ┆          ┆            │\n",
       "│ f2ffe5a9-16 ┆ 635793e9-3 ┆ viewconten ┆ android   ┆ browser ┆ direct     ┆ books    ┆ books-648  │\n",
       "│ 5d-4021-870 ┆ 7c0-48d4-9 ┆ t          ┆           ┆         ┆            ┆          ┆            │\n",
       "│ 7-d197d7…   ┆ 76a-c40cd8 ┆            ┆           ┆         ┆            ┆          ┆            │\n",
       "│             ┆ …          ┆            ┆           ┆         ┆            ┆          ┆            │\n",
       "│ f2ffe5a9-16 ┆ 635793e9-3 ┆ scroll     ┆ android   ┆ browser ┆ direct     ┆ books    ┆ None       │\n",
       "│ 5d-4021-870 ┆ 7c0-48d4-9 ┆            ┆           ┆         ┆            ┆          ┆            │\n",
       "│ 7-d197d7…   ┆ 76a-c40cd8 ┆            ┆           ┆         ┆            ┆          ┆            │\n",
       "│             ┆ …          ┆            ┆           ┆         ┆            ┆          ┆            │\n",
       "│ f2ffe5a9-16 ┆ 635793e9-3 ┆ pageview   ┆ android   ┆ browser ┆ direct     ┆ books    ┆ books-768  │\n",
       "│ 5d-4021-870 ┆ 7c0-48d4-9 ┆            ┆           ┆         ┆            ┆          ┆            │\n",
       "│ 7-d197d7…   ┆ 76a-c40cd8 ┆            ┆           ┆         ┆            ┆          ┆            │\n",
       "│             ┆ …          ┆            ┆           ┆         ┆            ┆          ┆            │\n",
       "│ …           ┆ …          ┆ …          ┆ …         ┆ …       ┆ …          ┆ …        ┆ …          │\n",
       "│ fdcc8977-2c ┆ 74c52fbc-3 ┆ add_to_car ┆ ios       ┆ app     ┆ paid       ┆ toys     ┆ toys-405   │\n",
       "│ 1c-45a9-b52 ┆ 539-4f3c-b ┆ t          ┆           ┆         ┆            ┆          ┆            │\n",
       "│ 8-9a650c…   ┆ dbf-4936c8 ┆            ┆           ┆         ┆            ┆          ┆            │\n",
       "│             ┆ …          ┆            ┆           ┆         ┆            ┆          ┆            │\n",
       "│ fdcc8977-2c ┆ 74c52fbc-3 ┆ purchase   ┆ ios       ┆ app     ┆ paid       ┆ snack    ┆ snack-255  │\n",
       "│ 1c-45a9-b52 ┆ 539-4f3c-b ┆            ┆           ┆         ┆            ┆          ┆            │\n",
       "│ 8-9a650c…   ┆ dbf-4936c8 ┆            ┆           ┆         ┆            ┆          ┆            │\n",
       "│             ┆ …          ┆            ┆           ┆         ┆            ┆          ┆            │\n",
       "│ fdcc8977-2c ┆ 74c52fbc-3 ┆ pageview   ┆ ios       ┆ app     ┆ paid       ┆ books    ┆ books-455  │\n",
       "│ 1c-45a9-b52 ┆ 539-4f3c-b ┆            ┆           ┆         ┆            ┆          ┆            │\n",
       "│ 8-9a650c…   ┆ dbf-4936c8 ┆            ┆           ┆         ┆            ┆          ┆            │\n",
       "│             ┆ …          ┆            ┆           ┆         ┆            ┆          ┆            │\n",
       "│ fdcc8977-2c ┆ 74c52fbc-3 ┆ scroll     ┆ ios       ┆ app     ┆ paid       ┆ beauty   ┆ None       │\n",
       "│ 1c-45a9-b52 ┆ 539-4f3c-b ┆            ┆           ┆         ┆            ┆          ┆            │\n",
       "│ 8-9a650c…   ┆ dbf-4936c8 ┆            ┆           ┆         ┆            ┆          ┆            │\n",
       "│             ┆ …          ┆            ┆           ┆         ┆            ┆          ┆            │\n",
       "│ fdcc8977-2c ┆ 74c52fbc-3 ┆ viewconten ┆ ios       ┆ app     ┆ paid       ┆ fashion  ┆ fashion-29 │\n",
       "│ 1c-45a9-b52 ┆ 539-4f3c-b ┆ t          ┆           ┆         ┆            ┆          ┆ 0          │\n",
       "│ 8-9a650c…   ┆ dbf-4936c8 ┆            ┆           ┆         ┆            ┆          ┆            │\n",
       "│             ┆ …          ┆            ┆           ┆         ┆            ┆          ┆            │\n",
       "└─────────────┴────────────┴────────────┴───────────┴─────────┴────────────┴──────────┴────────────┘"
      ]
     },
     "execution_count": 4,
     "metadata": {},
     "output_type": "execute_result"
    }
   ],
   "source": [
    "events.fetch()"
   ]
  },
  {
   "cell_type": "code",
   "execution_count": 2,
   "id": "5413b468",
   "metadata": {},
   "outputs": [],
   "source": [
    "features_df = (\n",
    "    df.group_by(\"muid\")\n",
    "        .agg([\n",
    "            pl.len().alias(\"event_count\"),\n",
    "\n",
    "            (pl.col(\"event_name\") == \"purcahse\").sum().alias(\"purchase_count\"),\n",
    "            (pl.col(\"event_name\") == \"add_to_cart\").sum().alias(\"add_to_cart_count\"),\n",
    "            (pl.col(\"event_name\") == \"viewcontent\").sum().alias(\"viewcontent_count\"),\n",
    "            (pl.col(\"event_name\") == \"scroll\").sum().alias(\"scroll_count\"),\n",
    "            (pl.col(\"event_name\") == \"search\").sum().alias(\"search_count\"),\n",
    "            (pl.col(\"event_name\") == \"pageview\").sum().alias(\"pageview_count\"),\n",
    "\n",
    "            (pl.col(\"device_os\") == \"desktop\").sum().alias(\"desktop_count\"),\n",
    "            (pl.col(\"device_os\") == \"android\").sum().alias(\"android_count\"),\n",
    "            (pl.col(\"device_os\") == \"ios\").sum().alias(\"ios_count\"),\n",
    "\n",
    "            (pl.col(\"channel\") == \"browser\").sum().alias(\"browser_count\"),\n",
    "            (pl.col(\"channel\") == \"app\").sum().alias(\"app_count\"),\n",
    "            \n",
    "            (pl.col(\"traffic_source\") == \"seo\").sum().alias(\"seo_count\"),\n",
    "            (pl.col(\"traffic_source\") == \"social\").sum().alias(\"social_count\"),\n",
    "            (pl.col(\"traffic_source\") == \"paid\").sum().alias(\"paid_count\"),\n",
    "            (pl.col(\"traffic_source\") == \"direct\").sum().alias(\"direct_count\"),\n",
    "\n",
    "            \n",
    "            pl.n_unique(\"session_id\").alias(\"session_count\"),\n",
    "\n",
    "            pl.n_unique(\"product_id\").alias(\"unique_products\"),\n",
    "            pl.n_unique(\"category\").alias(\"unique_categories\"),\n",
    "\n",
    "            pl.n_unique(\"location\").alias(\"unique_locations\"),\n",
    "        ])\n",
    ")"
   ]
  },
  {
   "cell_type": "code",
   "execution_count": null,
   "id": "548ac3bd",
   "metadata": {},
   "outputs": [],
   "source": [
    "features_df.sink_parquet(\"features.parquet\")"
   ]
  },
  {
   "cell_type": "code",
   "execution_count": 13,
   "id": "f716ec4d",
   "metadata": {},
   "outputs": [
    {
     "name": "stderr",
     "output_type": "stream",
     "text": [
      "/tmp/ipykernel_8661/3593423227.py:1: DeprecationWarning: `LazyFrame.fetch` is deprecated; use `LazyFrame.collect` instead, in conjunction with a call to `head`.\n",
      "  pl.scan_parquet(\"/home/muthu/Desktop/New Folder/data/events/part-00001.parquet\").fetch()#.select(pl.col(\"location\").value_counts()).collect()\n"
     ]
    },
    {
     "data": {
      "text/html": [
       "<div><style>\n",
       ".dataframe > thead > tr,\n",
       ".dataframe > tbody > tr {\n",
       "  text-align: right;\n",
       "  white-space: pre-wrap;\n",
       "}\n",
       "</style>\n",
       "<small>shape: (500, 11)</small><table border=\"1\" class=\"dataframe\"><thead><tr><th>event_id</th><th>muid</th><th>session_id</th><th>event_name</th><th>event_time</th><th>device_os</th><th>channel</th><th>traffic_source</th><th>category</th><th>product_id</th><th>page_url</th></tr><tr><td>str</td><td>str</td><td>str</td><td>str</td><td>str</td><td>str</td><td>str</td><td>str</td><td>str</td><td>str</td><td>str</td></tr></thead><tbody><tr><td>&quot;7772a539-50b5-4fa5-a8af-50605c…</td><td>&quot;f2ffe5a9-165d-4021-8707-d197d7…</td><td>&quot;635793e9-37c0-48d4-976a-c40cd8…</td><td>&quot;scroll&quot;</td><td>&quot;2024-05-04T05:52:27.393192Z&quot;</td><td>&quot;android&quot;</td><td>&quot;browser&quot;</td><td>&quot;direct&quot;</td><td>&quot;books&quot;</td><td>&quot;&quot;</td><td>&quot;&quot;</td></tr><tr><td>&quot;d7d1aa30-10d2-41a9-bcaa-fb7e8d…</td><td>&quot;f2ffe5a9-165d-4021-8707-d197d7…</td><td>&quot;635793e9-37c0-48d4-976a-c40cd8…</td><td>&quot;add_to_cart&quot;</td><td>&quot;2024-05-04T05:52:35.393192Z&quot;</td><td>&quot;android&quot;</td><td>&quot;browser&quot;</td><td>&quot;direct&quot;</td><td>&quot;beauty&quot;</td><td>&quot;beauty-633&quot;</td><td>&quot;https://shop.example.com/beaut…</td></tr><tr><td>&quot;6093e139-45bc-4cc5-bf7c-1a9c0b…</td><td>&quot;f2ffe5a9-165d-4021-8707-d197d7…</td><td>&quot;635793e9-37c0-48d4-976a-c40cd8…</td><td>&quot;viewcontent&quot;</td><td>&quot;2024-05-04T05:53:05.393192Z&quot;</td><td>&quot;android&quot;</td><td>&quot;browser&quot;</td><td>&quot;direct&quot;</td><td>&quot;books&quot;</td><td>&quot;books-648&quot;</td><td>&quot;https://shop.example.com/books…</td></tr><tr><td>&quot;a60e433a-4bb6-46e1-9985-f37b76…</td><td>&quot;f2ffe5a9-165d-4021-8707-d197d7…</td><td>&quot;635793e9-37c0-48d4-976a-c40cd8…</td><td>&quot;scroll&quot;</td><td>&quot;2024-05-04T05:54:17.393192Z&quot;</td><td>&quot;android&quot;</td><td>&quot;browser&quot;</td><td>&quot;direct&quot;</td><td>&quot;books&quot;</td><td>&quot;&quot;</td><td>&quot;&quot;</td></tr><tr><td>&quot;d039daf6-b1e9-4d09-be33-c2baf8…</td><td>&quot;f2ffe5a9-165d-4021-8707-d197d7…</td><td>&quot;635793e9-37c0-48d4-976a-c40cd8…</td><td>&quot;pageview&quot;</td><td>&quot;2024-05-04T05:54:39.393192Z&quot;</td><td>&quot;android&quot;</td><td>&quot;browser&quot;</td><td>&quot;direct&quot;</td><td>&quot;books&quot;</td><td>&quot;books-768&quot;</td><td>&quot;https://shop.example.com/books…</td></tr><tr><td>&hellip;</td><td>&hellip;</td><td>&hellip;</td><td>&hellip;</td><td>&hellip;</td><td>&hellip;</td><td>&hellip;</td><td>&hellip;</td><td>&hellip;</td><td>&hellip;</td><td>&hellip;</td></tr><tr><td>&quot;c6fa19ba-c994-4661-ae95-4aeb2d…</td><td>&quot;fdcc8977-2c1c-45a9-b528-9a650c…</td><td>&quot;74c52fbc-3539-4f3c-bdbf-4936c8…</td><td>&quot;add_to_cart&quot;</td><td>&quot;2024-09-06T23:13:27.232617Z&quot;</td><td>&quot;ios&quot;</td><td>&quot;app&quot;</td><td>&quot;paid&quot;</td><td>&quot;toys&quot;</td><td>&quot;toys-405&quot;</td><td>&quot;https://shop.example.com/toys/…</td></tr><tr><td>&quot;b4d12cba-8659-430b-abba-dbce8f…</td><td>&quot;fdcc8977-2c1c-45a9-b528-9a650c…</td><td>&quot;74c52fbc-3539-4f3c-bdbf-4936c8…</td><td>&quot;purchase&quot;</td><td>&quot;2024-09-06T23:13:42.232617Z&quot;</td><td>&quot;ios&quot;</td><td>&quot;app&quot;</td><td>&quot;paid&quot;</td><td>&quot;snack&quot;</td><td>&quot;snack-255&quot;</td><td>&quot;https://shop.example.com/snack…</td></tr><tr><td>&quot;a90ed934-57f4-4038-aea7-5c094b…</td><td>&quot;fdcc8977-2c1c-45a9-b528-9a650c…</td><td>&quot;74c52fbc-3539-4f3c-bdbf-4936c8…</td><td>&quot;pageview&quot;</td><td>&quot;2024-09-06T23:14:00.232617Z&quot;</td><td>&quot;ios&quot;</td><td>&quot;app&quot;</td><td>&quot;paid&quot;</td><td>&quot;books&quot;</td><td>&quot;books-455&quot;</td><td>&quot;https://shop.example.com/books…</td></tr><tr><td>&quot;b417580d-770c-4b46-a4f6-108628…</td><td>&quot;fdcc8977-2c1c-45a9-b528-9a650c…</td><td>&quot;74c52fbc-3539-4f3c-bdbf-4936c8…</td><td>&quot;scroll&quot;</td><td>&quot;2024-09-06T23:14:10.232617Z&quot;</td><td>&quot;ios&quot;</td><td>&quot;app&quot;</td><td>&quot;paid&quot;</td><td>&quot;beauty&quot;</td><td>&quot;&quot;</td><td>&quot;&quot;</td></tr><tr><td>&quot;ea25c071-b745-4b98-b29e-d79e7a…</td><td>&quot;fdcc8977-2c1c-45a9-b528-9a650c…</td><td>&quot;74c52fbc-3539-4f3c-bdbf-4936c8…</td><td>&quot;viewcontent&quot;</td><td>&quot;2024-09-06T23:14:17.232617Z&quot;</td><td>&quot;ios&quot;</td><td>&quot;app&quot;</td><td>&quot;paid&quot;</td><td>&quot;fashion&quot;</td><td>&quot;fashion-290&quot;</td><td>&quot;https://shop.example.com/fashi…</td></tr></tbody></table></div>"
      ],
      "text/plain": [
       "shape: (500, 11)\n",
       "┌───────────┬───────────┬───────────┬───────────┬───┬───────────┬──────────┬───────────┬───────────┐\n",
       "│ event_id  ┆ muid      ┆ session_i ┆ event_nam ┆ … ┆ traffic_s ┆ category ┆ product_i ┆ page_url  │\n",
       "│ ---       ┆ ---       ┆ d         ┆ e         ┆   ┆ ource     ┆ ---      ┆ d         ┆ ---       │\n",
       "│ str       ┆ str       ┆ ---       ┆ ---       ┆   ┆ ---       ┆ str      ┆ ---       ┆ str       │\n",
       "│           ┆           ┆ str       ┆ str       ┆   ┆ str       ┆          ┆ str       ┆           │\n",
       "╞═══════════╪═══════════╪═══════════╪═══════════╪═══╪═══════════╪══════════╪═══════════╪═══════════╡\n",
       "│ 7772a539- ┆ f2ffe5a9- ┆ 635793e9- ┆ scroll    ┆ … ┆ direct    ┆ books    ┆           ┆           │\n",
       "│ 50b5-4fa5 ┆ 165d-4021 ┆ 37c0-48d4 ┆           ┆   ┆           ┆          ┆           ┆           │\n",
       "│ -a8af-506 ┆ -8707-d19 ┆ -976a-c40 ┆           ┆   ┆           ┆          ┆           ┆           │\n",
       "│ 05c…      ┆ 7d7…      ┆ cd8…      ┆           ┆   ┆           ┆          ┆           ┆           │\n",
       "│ d7d1aa30- ┆ f2ffe5a9- ┆ 635793e9- ┆ add_to_ca ┆ … ┆ direct    ┆ beauty   ┆ beauty-63 ┆ https://s │\n",
       "│ 10d2-41a9 ┆ 165d-4021 ┆ 37c0-48d4 ┆ rt        ┆   ┆           ┆          ┆ 3         ┆ hop.examp │\n",
       "│ -bcaa-fb7 ┆ -8707-d19 ┆ -976a-c40 ┆           ┆   ┆           ┆          ┆           ┆ le.com/be │\n",
       "│ e8d…      ┆ 7d7…      ┆ cd8…      ┆           ┆   ┆           ┆          ┆           ┆ aut…      │\n",
       "│ 6093e139- ┆ f2ffe5a9- ┆ 635793e9- ┆ viewconte ┆ … ┆ direct    ┆ books    ┆ books-648 ┆ https://s │\n",
       "│ 45bc-4cc5 ┆ 165d-4021 ┆ 37c0-48d4 ┆ nt        ┆   ┆           ┆          ┆           ┆ hop.examp │\n",
       "│ -bf7c-1a9 ┆ -8707-d19 ┆ -976a-c40 ┆           ┆   ┆           ┆          ┆           ┆ le.com/bo │\n",
       "│ c0b…      ┆ 7d7…      ┆ cd8…      ┆           ┆   ┆           ┆          ┆           ┆ oks…      │\n",
       "│ a60e433a- ┆ f2ffe5a9- ┆ 635793e9- ┆ scroll    ┆ … ┆ direct    ┆ books    ┆           ┆           │\n",
       "│ 4bb6-46e1 ┆ 165d-4021 ┆ 37c0-48d4 ┆           ┆   ┆           ┆          ┆           ┆           │\n",
       "│ -9985-f37 ┆ -8707-d19 ┆ -976a-c40 ┆           ┆   ┆           ┆          ┆           ┆           │\n",
       "│ b76…      ┆ 7d7…      ┆ cd8…      ┆           ┆   ┆           ┆          ┆           ┆           │\n",
       "│ d039daf6- ┆ f2ffe5a9- ┆ 635793e9- ┆ pageview  ┆ … ┆ direct    ┆ books    ┆ books-768 ┆ https://s │\n",
       "│ b1e9-4d09 ┆ 165d-4021 ┆ 37c0-48d4 ┆           ┆   ┆           ┆          ┆           ┆ hop.examp │\n",
       "│ -be33-c2b ┆ -8707-d19 ┆ -976a-c40 ┆           ┆   ┆           ┆          ┆           ┆ le.com/bo │\n",
       "│ af8…      ┆ 7d7…      ┆ cd8…      ┆           ┆   ┆           ┆          ┆           ┆ oks…      │\n",
       "│ …         ┆ …         ┆ …         ┆ …         ┆ … ┆ …         ┆ …        ┆ …         ┆ …         │\n",
       "│ c6fa19ba- ┆ fdcc8977- ┆ 74c52fbc- ┆ add_to_ca ┆ … ┆ paid      ┆ toys     ┆ toys-405  ┆ https://s │\n",
       "│ c994-4661 ┆ 2c1c-45a9 ┆ 3539-4f3c ┆ rt        ┆   ┆           ┆          ┆           ┆ hop.examp │\n",
       "│ -ae95-4ae ┆ -b528-9a6 ┆ -bdbf-493 ┆           ┆   ┆           ┆          ┆           ┆ le.com/to │\n",
       "│ b2d…      ┆ 50c…      ┆ 6c8…      ┆           ┆   ┆           ┆          ┆           ┆ ys/…      │\n",
       "│ b4d12cba- ┆ fdcc8977- ┆ 74c52fbc- ┆ purchase  ┆ … ┆ paid      ┆ snack    ┆ snack-255 ┆ https://s │\n",
       "│ 8659-430b ┆ 2c1c-45a9 ┆ 3539-4f3c ┆           ┆   ┆           ┆          ┆           ┆ hop.examp │\n",
       "│ -abba-dbc ┆ -b528-9a6 ┆ -bdbf-493 ┆           ┆   ┆           ┆          ┆           ┆ le.com/sn │\n",
       "│ e8f…      ┆ 50c…      ┆ 6c8…      ┆           ┆   ┆           ┆          ┆           ┆ ack…      │\n",
       "│ a90ed934- ┆ fdcc8977- ┆ 74c52fbc- ┆ pageview  ┆ … ┆ paid      ┆ books    ┆ books-455 ┆ https://s │\n",
       "│ 57f4-4038 ┆ 2c1c-45a9 ┆ 3539-4f3c ┆           ┆   ┆           ┆          ┆           ┆ hop.examp │\n",
       "│ -aea7-5c0 ┆ -b528-9a6 ┆ -bdbf-493 ┆           ┆   ┆           ┆          ┆           ┆ le.com/bo │\n",
       "│ 94b…      ┆ 50c…      ┆ 6c8…      ┆           ┆   ┆           ┆          ┆           ┆ oks…      │\n",
       "│ b417580d- ┆ fdcc8977- ┆ 74c52fbc- ┆ scroll    ┆ … ┆ paid      ┆ beauty   ┆           ┆           │\n",
       "│ 770c-4b46 ┆ 2c1c-45a9 ┆ 3539-4f3c ┆           ┆   ┆           ┆          ┆           ┆           │\n",
       "│ -a4f6-108 ┆ -b528-9a6 ┆ -bdbf-493 ┆           ┆   ┆           ┆          ┆           ┆           │\n",
       "│ 628…      ┆ 50c…      ┆ 6c8…      ┆           ┆   ┆           ┆          ┆           ┆           │\n",
       "│ ea25c071- ┆ fdcc8977- ┆ 74c52fbc- ┆ viewconte ┆ … ┆ paid      ┆ fashion  ┆ fashion-2 ┆ https://s │\n",
       "│ b745-4b98 ┆ 2c1c-45a9 ┆ 3539-4f3c ┆ nt        ┆   ┆           ┆          ┆ 90        ┆ hop.examp │\n",
       "│ -b29e-d79 ┆ -b528-9a6 ┆ -bdbf-493 ┆           ┆   ┆           ┆          ┆           ┆ le.com/fa │\n",
       "│ e7a…      ┆ 50c…      ┆ 6c8…      ┆           ┆   ┆           ┆          ┆           ┆ shi…      │\n",
       "└───────────┴───────────┴───────────┴───────────┴───┴───────────┴──────────┴───────────┴───────────┘"
      ]
     },
     "execution_count": 13,
     "metadata": {},
     "output_type": "execute_result"
    }
   ],
   "source": [
    "\n",
    "pl.scan_parquet(\"/home/muthu/Desktop/New Folder/data/events/part-00001.parquet\").fetch()#.select(pl.col(\"location\").value_counts()).collect()"
   ]
  },
  {
   "cell_type": "code",
   "execution_count": null,
   "id": "4f2bb376",
   "metadata": {},
   "outputs": [],
   "source": []
  }
 ],
 "metadata": {
  "kernelspec": {
   "display_name": "task",
   "language": "python",
   "name": "python3"
  },
  "language_info": {
   "codemirror_mode": {
    "name": "ipython",
    "version": 3
   },
   "file_extension": ".py",
   "mimetype": "text/x-python",
   "name": "python",
   "nbconvert_exporter": "python",
   "pygments_lexer": "ipython3",
   "version": "3.12.3"
  }
 },
 "nbformat": 4,
 "nbformat_minor": 5
}
