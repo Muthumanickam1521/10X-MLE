{
 "cells": [
  {
   "cell_type": "code",
   "execution_count": 22,
   "id": "70676a67",
   "metadata": {},
   "outputs": [
    {
     "data": {
      "text/html": [
       "<i>naive plan: (run <b>LazyFrame.explain(optimized=True)</b> to see the optimized plan)</i>\n",
       "    <p></p>\n",
       "    <div>Parquet SCAN [/home/muthu/Desktop/New Folder/notebook/cluster_summary.parquet]<p></p>PROJECT */5 COLUMNS</div>"
      ],
      "text/plain": [
       "<LazyFrame at 0x7BB022249910>"
      ]
     },
     "execution_count": 22,
     "metadata": {},
     "output_type": "execute_result"
    }
   ],
   "source": [
    "import pandas as pd\n",
    "\n",
    "#cluster_summary = pd.read_csv(\"/home/muthu/Desktop/New Folder/notebook/cluster_summary.csv\"); cluster_summary.head()\n",
    "cluster_summary = pl.scan_parquet(\"/home/muthu/Desktop/New Folder/notebook/cluster_summary.parquet\"); cluster_summary"
   ]
  },
  {
   "cell_type": "code",
   "execution_count": 23,
   "id": "5cc0290d",
   "metadata": {},
   "outputs": [
    {
     "data": {
      "text/html": [
       "<i>naive plan: (run <b>LazyFrame.explain(optimized=True)</b> to see the optimized plan)</i>\n",
       "    <p></p>\n",
       "    <div>Parquet SCAN [/home/muthu/Desktop/New Folder/notebook/features_clustered.parquet]<p></p>PROJECT */22 COLUMNS</div>"
      ],
      "text/plain": [
       "<LazyFrame at 0x7BB022430EF0>"
      ]
     },
     "execution_count": 23,
     "metadata": {},
     "output_type": "execute_result"
    }
   ],
   "source": [
    "#features_clustered = pd.read_csv(\"/home/muthu/Desktop/New Folder/notebook/features_clustered.csv\"); features_clustered\n",
    "features_clustered = pl.scan_parquet(\"/home/muthu/Desktop/New Folder/notebook/features_clustered.parquet\"); features_clustered"
   ]
  },
  {
   "cell_type": "code",
   "execution_count": null,
   "id": "4e7621ff",
   "metadata": {},
   "outputs": [
    {
     "ename": "AttributeError",
     "evalue": "'LazyFrame' object has no attribute 'iter_rows'",
     "output_type": "error",
     "traceback": [
      "\u001b[31m---------------------------------------------------------------------------\u001b[39m",
      "\u001b[31mAttributeError\u001b[39m                            Traceback (most recent call last)",
      "\u001b[36mCell\u001b[39m\u001b[36m \u001b[39m\u001b[32mIn[26]\u001b[39m\u001b[32m, line 7\u001b[39m\n\u001b[32m      4\u001b[39m driver = GraphDatabase.driver(\u001b[33m\"\u001b[39m\u001b[33mneo4j://localhost:7687\u001b[39m\u001b[33m\"\u001b[39m, auth=(\u001b[33m\"\u001b[39m\u001b[33mneo4j\u001b[39m\u001b[33m\"\u001b[39m,\u001b[33m\"\u001b[39m\u001b[33m12345678\u001b[39m\u001b[33m\"\u001b[39m))\n\u001b[32m      6\u001b[39m \u001b[38;5;28;01mwith\u001b[39;00m driver.session() \u001b[38;5;28;01mas\u001b[39;00m sess:\n\u001b[32m----> \u001b[39m\u001b[32m7\u001b[39m     \u001b[38;5;28;01mfor\u001b[39;00m _, row \u001b[38;5;129;01min\u001b[39;00m \u001b[43mcluster_summary\u001b[49m\u001b[43m.\u001b[49m\u001b[43miter_rows\u001b[49m(named=\u001b[38;5;28;01mTrue\u001b[39;00m):\n\u001b[32m      8\u001b[39m         sess.run(\n\u001b[32m      9\u001b[39m             \u001b[33m\"\u001b[39m\u001b[33mMERGE (:Cluster \u001b[39m\u001b[33m{\u001b[39m\u001b[33mcluster_id:$id, size:$size, summary:$summary})\u001b[39m\u001b[33m\"\u001b[39m,\n\u001b[32m     10\u001b[39m             \u001b[38;5;28mid\u001b[39m=row[\u001b[33m\"\u001b[39m\u001b[33mcluster_id\u001b[39m\u001b[33m\"\u001b[39m], size=row[\u001b[33m\"\u001b[39m\u001b[33mcluster_size\u001b[39m\u001b[33m\"\u001b[39m], summary=row[\u001b[33m\"\u001b[39m\u001b[33msummary_text\u001b[39m\u001b[33m\"\u001b[39m]\n\u001b[32m     11\u001b[39m         )\n\u001b[32m     13\u001b[39m     \u001b[38;5;28;01mfor\u001b[39;00m cid \u001b[38;5;129;01min\u001b[39;00m features_clustered[\u001b[33m\"\u001b[39m\u001b[33mcluster_id\u001b[39m\u001b[33m\"\u001b[39m].unique():\n",
      "\u001b[31mAttributeError\u001b[39m: 'LazyFrame' object has no attribute 'iter_rows'"
     ]
    }
   ],
   "source": [
    "from neo4j import GraphDatabase\n",
    "import polars as pl\n",
    "\n",
    "driver = GraphDatabase.driver(\"neo4j://localhost:7687\", auth=(\"neo4j\",\"12345678\"))\n",
    "\n",
    "with driver.session() as session:\n",
    "    for row in cluster_summary.iter_rows(named=True):\n",
    "        session.run(\n",
    "            \"MERGE (:Cluster {cluster_id:$id, size:$size, summary:$summary})\",\n",
    "            id=row[\"cluster_id\"], size=row[\"cluster_size\"], summary=row[\"summary_text\"]\n",
    "        )\n",
    "\n",
    "    for cid in features_clustered[\"cluster_id\"].unique():\n",
    "        sample = features_clustered.filter(pl.col(\"cluster_id\")==cid).head(2)  # sample users\n",
    "        for r in sample.iter_rows(named=True):\n",
    "            session.run(\"\"\"\n",
    "                MERGE (c:Customer {id:$id})\n",
    "                WITH c\n",
    "                MATCH (cl:Cluster {cluster_id:$cid})\n",
    "                MERGE (c)-[:IN_CLUSTER]->(cl)\n",
    "            \"\"\", id=r[\"muid\"], cid=cid)\n"
   ]
  },
  {
   "cell_type": "code",
   "execution_count": null,
   "metadata": {},
   "outputs": [],
   "source": []
  },
  {
   "cell_type": "code",
   "execution_count": null,
   "id": "0bd21bb2",
   "metadata": {},
   "outputs": [],
   "source": []
  }
 ],
 "metadata": {
  "kernelspec": {
   "display_name": "task",
   "language": "python",
   "name": "python3"
  },
  "language_info": {
   "codemirror_mode": {
    "name": "ipython",
    "version": 3
   },
   "file_extension": ".py",
   "mimetype": "text/x-python",
   "name": "python",
   "nbconvert_exporter": "python",
   "pygments_lexer": "ipython3",
   "version": "3.12.3"
  }
 },
 "nbformat": 4,
 "nbformat_minor": 5
}
