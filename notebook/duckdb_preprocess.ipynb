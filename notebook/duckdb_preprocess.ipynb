{
 "cells": [
  {
   "cell_type": "code",
   "execution_count": 4,
   "id": "2f7097b3",
   "metadata": {},
   "outputs": [
    {
     "data": {
      "text/plain": [
       "<duckdb.duckdb.DuckDBPyConnection at 0x71280c4160f0>"
      ]
     },
     "execution_count": 4,
     "metadata": {},
     "output_type": "execute_result"
    }
   ],
   "source": [
    "import duckdb\n",
    "\n",
    "users_dir = \"/home/muthu/Desktop/New Folder/data/users/part-00001.parquet\"\n",
    "events_dir = \"/home/muthu/Desktop/New Folder/data/events/part-00001.parquet\"\n",
    "\n",
    "con = duckdb.connect()\n",
    "\n",
    "# Register parquet datasets\n",
    "con.execute(f\"CREATE VIEW users AS SELECT id, location FROM '{users_dir}'\")\n",
    "con.execute(f\"\"\"\n",
    "    CREATE VIEW events AS\n",
    "    SELECT\n",
    "        muid,         -- adjust if column is mid/muid\n",
    "        session_id,\n",
    "        event_name,\n",
    "        device_os,\n",
    "        channel,\n",
    "        traffic_source,\n",
    "        CASE WHEN product_id = '' THEN 'None' ELSE product_id END AS product_id,\n",
    "        category\n",
    "    FROM '{events_dir}'\n",
    "\"\"\")\n",
    "\n",
    "# Join + aggregate into features\n",
    "con.execute(\"\"\"\n",
    "    COPY (\n",
    "        SELECT\n",
    "            e.muid,\n",
    "\n",
    "            COUNT(*) AS event_count,\n",
    "\n",
    "            SUM(CASE WHEN e.event_name = 'purchase'    THEN 1 ELSE 0 END) AS purchase_count,\n",
    "            SUM(CASE WHEN e.event_name = 'add_to_cart' THEN 1 ELSE 0 END) AS add_to_cart_count,\n",
    "            SUM(CASE WHEN e.event_name = 'viewcontent' THEN 1 ELSE 0 END) AS viewcontent_count,\n",
    "            SUM(CASE WHEN e.event_name = 'scroll'      THEN 1 ELSE 0 END) AS scroll_count,\n",
    "            SUM(CASE WHEN e.event_name = 'search'      THEN 1 ELSE 0 END) AS search_count,\n",
    "            SUM(CASE WHEN e.event_name = 'pageview'    THEN 1 ELSE 0 END) AS pageview_count,\n",
    "\n",
    "            SUM(CASE WHEN e.device_os = 'desktop' THEN 1 ELSE 0 END) AS desktop_count,\n",
    "            SUM(CASE WHEN e.device_os = 'android' THEN 1 ELSE 0 END) AS android_count,\n",
    "            SUM(CASE WHEN e.device_os = 'ios'     THEN 1 ELSE 0 END) AS ios_count,\n",
    "\n",
    "            SUM(CASE WHEN e.channel = 'browser' THEN 1 ELSE 0 END) AS browser_count,\n",
    "            SUM(CASE WHEN e.channel = 'app'     THEN 1 ELSE 0 END) AS app_count,\n",
    "\n",
    "            SUM(CASE WHEN e.traffic_source = 'seo'    THEN 1 ELSE 0 END) AS seo_count,\n",
    "            SUM(CASE WHEN e.traffic_source = 'social' THEN 1 ELSE 0 END) AS social_count,\n",
    "            SUM(CASE WHEN e.traffic_source = 'paid'   THEN 1 ELSE 0 END) AS paid_count,\n",
    "            SUM(CASE WHEN e.traffic_source = 'direct' THEN 1 ELSE 0 END) AS direct_count,\n",
    "\n",
    "            COUNT(DISTINCT e.session_id) AS session_count,\n",
    "\n",
    "            COUNT(DISTINCT e.product_id) AS unique_products,\n",
    "            COUNT(DISTINCT e.category)   AS unique_categories,\n",
    "\n",
    "            COUNT(DISTINCT u.location)   AS unique_locations\n",
    "\n",
    "        FROM events e\n",
    "        JOIN users u ON e.muid = u.id\n",
    "        GROUP BY e.muid\n",
    "    )\n",
    "    TO 'features.parquet' (FORMAT PARQUET);\n",
    "\"\"\")\n"
   ]
  },
  {
   "cell_type": "code",
   "execution_count": null,
   "id": "70a49721",
   "metadata": {},
   "outputs": [],
   "source": []
  }
 ],
 "metadata": {
  "kernelspec": {
   "display_name": "task",
   "language": "python",
   "name": "python3"
  },
  "language_info": {
   "codemirror_mode": {
    "name": "ipython",
    "version": 3
   },
   "file_extension": ".py",
   "mimetype": "text/x-python",
   "name": "python",
   "nbconvert_exporter": "python",
   "pygments_lexer": "ipython3",
   "version": "3.12.3"
  }
 },
 "nbformat": 4,
 "nbformat_minor": 5
}
